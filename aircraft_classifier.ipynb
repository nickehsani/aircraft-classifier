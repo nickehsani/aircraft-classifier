{
 "cells": [
  {
   "cell_type": "markdown",
   "metadata": {},
   "source": [
    "Start by importing packages and data"
   ]
  },
  {
   "cell_type": "code",
   "execution_count": 49,
   "metadata": {},
   "outputs": [],
   "source": [
    "import torch\n",
    "import os\n",
    "import csv\n",
    "import torch.nn as nn\n",
    "import torch.optim as optim\n",
    "from torch.utils.data import DataLoader\n",
    "from torch.utils.data import sampler\n",
    "from PIL import Image \n",
    "import torchvision.datasets as dset\n",
    "import torchvision.transforms as T\n",
    "import random\n",
    "import numpy as np\n",
    "import matplotlib.pyplot as plt\n",
    "import statistics"
   ]
  },
  {
   "cell_type": "code",
   "execution_count": 50,
   "metadata": {},
   "outputs": [],
   "source": [
    "# Data ingest\n",
    "\n",
    "# Get all labels imported and indexed, with all whitespaces stripped out\n",
    "labels_list = []\n",
    "dataset = []\n",
    "#import dataset to empty arrays of data and label\n",
    "for (root, dirs, files) in os.walk(\"crop/\"):\n",
    "    labels_list = dirs\n",
    "    for dire in dirs:\n",
    "        curr_dir = root + dire\n",
    "        for (rt,di,fi) in os.walk(curr_dir):\n",
    "            for img in fi:\n",
    "                data = {}\n",
    "                data[\"image\"] = T.functional.pil_to_tensor(Image.open(curr_dir+\"/\"+img))#.to(torch.float32)\n",
    "                data[\"label\"] = labels_list.index(dire)\n",
    "                dataset.append(data)\n",
    "                # for each file in the sub directory\n",
    "                # append the image and corresponding label to dataset\n",
    "    break\n",
    "\n",
    "random.shuffle(labels_list)"
   ]
  },
  {
   "cell_type": "code",
   "execution_count": 3,
   "metadata": {},
   "outputs": [
    {
     "name": "stdout",
     "output_type": "stream",
     "text": [
      "21143\n"
     ]
    }
   ],
   "source": [
    "print(len(dataset))"
   ]
  },
  {
   "cell_type": "code",
   "execution_count": 4,
   "metadata": {},
   "outputs": [
    {
     "name": "stdout",
     "output_type": "stream",
     "text": [
      "340.69119803244575\n",
      "203\n",
      "[71]\n",
      "702.7543867946838\n",
      "453\n",
      "[1199]\n",
      "4911\n",
      "8073\n"
     ]
    }
   ],
   "source": [
    "heights = []\n",
    "widths = []\n",
    "for i in dataset:\n",
    "    c,h,w = i[\"image\"].shape\n",
    "    heights.append(h)\n",
    "    widths.append(w)\n",
    "\n",
    "#plt.bar(4000,heights)\n",
    "#plt.show()\n",
    "print (statistics.mean(heights))\n",
    "print (statistics.median(heights))\n",
    "print (statistics.multimode(heights))\n",
    "print (statistics.mean(widths))\n",
    "print (statistics.median(widths))\n",
    "print (statistics.multimode(widths))\n",
    "print (max(heights))\n",
    "print (max(widths))"
   ]
  },
  {
   "cell_type": "code",
   "execution_count": 7,
   "metadata": {},
   "outputs": [],
   "source": [
    "max_height = 4912\n",
    "max_width  = 8080"
   ]
  },
  {
   "cell_type": "code",
   "execution_count": 133,
   "metadata": {},
   "outputs": [],
   "source": [
    "class Patchwork (nn.Module):\n",
    "    def __init__ (self, patch_size = 16):\n",
    "        super().__init__()\n",
    "        self.patch_size = patch_size\n",
    "        self.num_patches = (max_height * max_width) // (self.patch_size ** 2)\n",
    "        self.patch_dim = (self.patch_size ** 2) * 3\n",
    "        self.linear_size = self.patch_dim // 2\n",
    "        self.linear_layer = nn.Linear(self.patch_dim,self.linear_size)\n",
    "\n",
    "    def forward(self,image):\n",
    "        image = image.to(torch.float32)\n",
    "        c,h,w = image.shape\n",
    "\n",
    "        #size standardization\n",
    "        patch_height = max_height - h\n",
    "        patch_width = max_width - w\n",
    "\n",
    "        patch_bottom = patch_height // 2\n",
    "        if (patch_height % 2):\n",
    "            patch_top = patch_bottom + 1\n",
    "        else:\n",
    "            patch_top = patch_bottom\n",
    "\n",
    "        patch_right = patch_width // 2\n",
    "\n",
    "        if (patch_width % 2):\n",
    "            patch_left = patch_right + 1\n",
    "        else:\n",
    "            patch_left = patch_right\n",
    "\n",
    "        padding = torch.nn.ZeroPad2d((patch_left,patch_right,patch_top,patch_bottom))\n",
    "        image = padding(image)\n",
    "        \n",
    "        patches = []\n",
    "        for i in range(self.num_patches):\n",
    "            x_coor = i // (max_width // self.patch_size)\n",
    "            y_coor = i - x_coor * (max_width // self.patch_size)\n",
    "\n",
    "            patch = image[:, x_coor * self.patch_size: (x_coor + 1) * self.patch_size,y_coor * self.patch_size:(y_coor+1)*self.patch_size]\n",
    "            patches.append(patch.flatten())\n",
    "            \n",
    "        patches = torch.stack(patches)\n",
    "        patches = self.linear_layer(patches)\n",
    "        classification_token = nn.Parameter(torch.rand(self.linear_size))\n",
    "        patches = torch.vstack((classification_token,patches))\n",
    "\n",
    "        return patches"
   ]
  },
  {
   "cell_type": "code",
   "execution_count": 134,
   "metadata": {},
   "outputs": [
    {
     "name": "stdout",
     "output_type": "stream",
     "text": [
      "torch.Size([155036, 384])\n"
     ]
    }
   ],
   "source": [
    "test = Patchwork()\n",
    "x = test(dataset[69][\"image\"])\n",
    "print(x.shape)"
   ]
  },
  {
   "cell_type": "raw",
   "metadata": {},
   "source": [
    "psudocode for data import \n",
    "    for each .csv file in dataset \n",
    "        get image file using file name, and import label\n",
    "\n",
    "https://github.com/gupta-abhay/pytorch-vit\n",
    "https://github.com/jeonsworld/ViT-pytorch/blob/main/models/modeling_resnet.py\n",
    "https://medium.com/deep-learning-study-notes/multi-layer-perceptron-mlp-in-pytorch-21ea46d50e62\n",
    "https://pytorch.org/docs/stable/generated/torch.nn.MultiheadAttention.html\n",
    "https://pytorch.org/docs/stable/generated/torch.nn.functional.normalize.html\n",
    "https://mrinath.medium.com/vit-part-1-patchify-images-using-pytorch-unfold-716cd4fd4ef6\n",
    "https://medium.com/@brianpulfer/vision-transformers-from-scratch-pytorch-a-step-by-step-guide-96c3313c2e0c\n",
    "\n",
    "\n",
    "TODO: Get metadata and make a dictionary to translate aircraft types into indexes/usable y-axis"
   ]
  }
 ],
 "metadata": {
  "kernelspec": {
   "display_name": "Python 3",
   "language": "python",
   "name": "python3"
  },
  "language_info": {
   "codemirror_mode": {
    "name": "ipython",
    "version": 3
   },
   "file_extension": ".py",
   "mimetype": "text/x-python",
   "name": "python",
   "nbconvert_exporter": "python",
   "pygments_lexer": "ipython3",
   "version": "3.10.13"
  }
 },
 "nbformat": 4,
 "nbformat_minor": 2
}
