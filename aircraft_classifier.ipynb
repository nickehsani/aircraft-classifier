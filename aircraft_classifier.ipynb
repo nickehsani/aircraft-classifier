{
 "cells": [
  {
   "cell_type": "markdown",
   "metadata": {},
   "source": [
    "Start by importing packages and data"
   ]
  },
  {
   "cell_type": "code",
   "execution_count": null,
   "metadata": {},
   "outputs": [],
   "source": [
    "import torch\n",
    "import torch.nn as nn\n",
    "import torch.optim as optim\n",
    "from torch.utils.data import DataLoader\n",
    "from torch.utils.data import sampler\n",
    "\n",
    "import torchvision.datasets as dset\n",
    "import torchvision.transforms as T\n",
    "\n",
    "import numpy as np"
   ]
  },
  {
   "cell_type": "raw",
   "metadata": {},
   "source": [
    "psudocode for data import \n",
    "    for each .csv file in dataset \n",
    "        get image file using file name, and import label\n",
    "\n",
    "https://github.com/gupta-abhay/pytorch-vit\n",
    "https://github.com/jeonsworld/ViT-pytorch/blob/main/models/modeling_resnet.py\n",
    "https://medium.com/deep-learning-study-notes/multi-layer-perceptron-mlp-in-pytorch-21ea46d50e62\n",
    "https://pytorch.org/docs/stable/generated/torch.nn.MultiheadAttention.html\n",
    "https://pytorch.org/docs/stable/generated/torch.nn.functional.normalize.html\n",
    "\n",
    "TODO: Get metadata and make a dictionary to translate aircraft types into indexes/usable y-axis"
   ]
  }
 ],
 "metadata": {
  "language_info": {
   "name": "python"
  }
 },
 "nbformat": 4,
 "nbformat_minor": 2
}
