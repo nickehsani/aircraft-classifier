{
 "cells": [
  {
   "cell_type": "markdown",
   "metadata": {},
   "source": [
    "Start by importing packages and data"
   ]
  },
  {
   "cell_type": "code",
   "execution_count": 1,
   "metadata": {},
   "outputs": [],
   "source": [
    "import torch\n",
    "import os\n",
    "import csv\n",
    "import torch.nn as nn\n",
    "import torch.optim as optim\n",
    "from torch.utils.data import DataLoader\n",
    "from torch.utils.data import sampler\n",
    "from PIL import Image \n",
    "import torchvision.datasets as dset\n",
    "import torchvision.transforms as T\n",
    "import random\n",
    "import numpy as np\n",
    "import matplotlib.pyplot as plt\n",
    "import statistics\n",
    "import gc"
   ]
  },
  {
   "cell_type": "code",
   "execution_count": 36,
   "metadata": {},
   "outputs": [
    {
     "name": "stdout",
     "output_type": "stream",
     "text": [
      "using device: cpu\n"
     ]
    }
   ],
   "source": [
    "USE_GPU = True\n",
    "\n",
    "dtype = torch.float32 # we will be using float throughout this tutorial\n",
    "\n",
    "# if USE_GPU and torch.cuda.is_available():\n",
    "#     device = torch.device('cuda')\n",
    "# else:\n",
    "device = torch.device('cpu')\n",
    "\n",
    "print('using device:', device)"
   ]
  },
  {
   "cell_type": "code",
   "execution_count": 3,
   "metadata": {},
   "outputs": [],
   "source": [
    "# Data ingest\n",
    "\n",
    "# Get all labels imported and indexed, with all whitespaces stripped out\n",
    "labels_list = []\n",
    "dataset = []\n",
    "#import dataset to empty arrays of data and label\n",
    "for (root, dirs, files) in os.walk(\"crop/\"):\n",
    "    labels_list = dirs\n",
    "    for dire in dirs:\n",
    "        curr_dir = root + dire\n",
    "        for (rt,di,fi) in os.walk(curr_dir):\n",
    "            for img in fi:\n",
    "                data = {}\n",
    "                data[\"image\"] = T.functional.pil_to_tensor(Image.open(curr_dir+\"/\"+img))#.to(torch.float32)\n",
    "                data[\"label\"] = labels_list.index(dire)\n",
    "                _,h,w = data[\"image\"].shape\n",
    "                if (h <= 784 and w <= 896 and h >= 160 and w >= 160):\n",
    "                    dataset.append(data)\n",
    "                # for each file in the sub directory\n",
    "                # append the image and corresponding label to dataset\n",
    "    break\n",
    "random.shuffle(dataset)"
   ]
  },
  {
   "cell_type": "code",
   "execution_count": 4,
   "metadata": {},
   "outputs": [
    {
     "name": "stdout",
     "output_type": "stream",
     "text": [
      "6583\n"
     ]
    }
   ],
   "source": [
    "print(len(dataset))"
   ]
  },
  {
   "cell_type": "code",
   "execution_count": 5,
   "metadata": {},
   "outputs": [
    {
     "name": "stdout",
     "output_type": "stream",
     "text": [
      "297.358347258089\n",
      "256\n",
      "[191]\n",
      "533.786723378399\n",
      "537\n",
      "[679]\n",
      "784\n",
      "896\n"
     ]
    }
   ],
   "source": [
    "heights = []\n",
    "widths = []\n",
    "for i in dataset:\n",
    "    c,h,w = i[\"image\"].shape\n",
    "    heights.append(h)\n",
    "    widths.append(w)\n",
    "\n",
    "#plt.bar(4000,heights)\n",
    "#plt.show()\n",
    "print (statistics.mean(heights))\n",
    "print (statistics.median(heights))\n",
    "print (statistics.multimode(heights))\n",
    "print (statistics.mean(widths))\n",
    "print (statistics.median(widths))\n",
    "print (statistics.multimode(widths))\n",
    "print (max(heights))\n",
    "print (max(widths))"
   ]
  },
  {
   "cell_type": "code",
   "execution_count": 6,
   "metadata": {},
   "outputs": [
    {
     "name": "stdout",
     "output_type": "stream",
     "text": [
      "[529, 529, 529, 529, 529, 528, 528, 527, 527, 527]\n"
     ]
    }
   ],
   "source": [
    "heights.sort(reverse=True)\n",
    "print(heights[500:510])"
   ]
  },
  {
   "cell_type": "markdown",
   "metadata": {},
   "source": [
    "# height greater than 1504 or widths greater than 3104 is discarded"
   ]
  },
  {
   "cell_type": "code",
   "execution_count": 7,
   "metadata": {},
   "outputs": [],
   "source": [
    "max_height = 784\n",
    "\n",
    "max_width  = 896"
   ]
  },
  {
   "cell_type": "code",
   "execution_count": 8,
   "metadata": {},
   "outputs": [],
   "source": [
    "\n",
    "dtype = torch.float32"
   ]
  },
  {
   "cell_type": "code",
   "execution_count": 9,
   "metadata": {},
   "outputs": [],
   "source": [
    "class Patchwork (nn.Module):\n",
    "    def __init__ (self, patch_size = 16):\n",
    "        super().__init__()\n",
    "        self.patch_size = patch_size\n",
    "        self.num_patches = (max_height * max_width) // (self.patch_size ** 2)\n",
    "        self.patch_dim = (self.patch_size ** 2) * 3\n",
    "        self.linear_size = self.patch_dim // 2\n",
    "        self.linear_layer = nn.Linear(self.patch_dim,self.linear_size,dtype=torch.float16)\n",
    "        self.positional_embedding = self.get_pos_embed()\n",
    "        # self.positional_embedding.requires_grad=False\n",
    "    \n",
    "    def get_pos_embed(self):\n",
    "        positional_embedding = []\n",
    "        for i in range(self.num_patches+1):\n",
    "            positional_embedding_curr = []\n",
    "            for j in range(self.linear_size//2):\n",
    "                j *= 2\n",
    "                positional_embedding_curr.append(np.sin(i/(10000 ** (j/self.patch_dim))))\n",
    "                j += 1\n",
    "                positional_embedding_curr.append(np.cos(i/(10000 ** (j/self.patch_dim))))\n",
    "            if (self.patch_dim % 2):\n",
    "                j = self.patch_dim - 1\n",
    "                positional_embedding_curr.append(np.sin(i/(10000 ** (j/self.patch_dim))))\n",
    "            positional_embedding.append(torch.as_tensor(positional_embedding_curr,dtype=dtype))\n",
    "        return torch.stack(positional_embedding).to(dtype)\n",
    "\n",
    "\n",
    "    def forward(self,image):\n",
    "        image = image.to(torch.float16)\n",
    "        c,h,w = image.shape\n",
    "\n",
    "        #size standardization\n",
    "        patch_height = max_height - h\n",
    "        patch_width = max_width - w\n",
    "\n",
    "        patch_bottom = patch_height // 2\n",
    "        if (patch_height % 2):\n",
    "            patch_top = patch_bottom + 1\n",
    "        else:\n",
    "            patch_top = patch_bottom\n",
    "\n",
    "        patch_right = patch_width // 2\n",
    "\n",
    "        if (patch_width % 2):\n",
    "            patch_left = patch_right + 1\n",
    "        else:\n",
    "            patch_left = patch_right\n",
    "            \n",
    "\n",
    "        padding = torch.nn.ZeroPad2d((patch_left,patch_right,patch_top,patch_bottom))\n",
    "        image = padding(image)\n",
    "        \n",
    "        patches = []\n",
    "            \n",
    "        for i in range(self.num_patches):\n",
    "            x_coor = i // (max_width // self.patch_size)\n",
    "            y_coor = i - x_coor * (max_width // self.patch_size)\n",
    "            patch = image[:, x_coor * self.patch_size: (x_coor + 1) * self.patch_size,y_coor * self.patch_size:(y_coor+1)*self.patch_size]\n",
    "            patches.append(patch.flatten())\n",
    "            \n",
    "        patches = torch.stack(patches)\n",
    "        patches = self.linear_layer(patches)\n",
    "        \n",
    "        classification_token = nn.Parameter(torch.rand(self.linear_size,dtype=dtype))\n",
    "        patches = torch.vstack((classification_token,patches))\n",
    "        # print(patches.shape)\n",
    "        patches = patches + self.positional_embedding\n",
    "\n",
    "        return patches.to(dtype)"
   ]
  },
  {
   "cell_type": "code",
   "execution_count": 10,
   "metadata": {},
   "outputs": [
    {
     "name": "stdout",
     "output_type": "stream",
     "text": [
      "0\n"
     ]
    }
   ],
   "source": [
    "patch = Patchwork()\n",
    "patched_dataset = []\n",
    "for i in range(100):\n",
    "    img = dataset[i][\"image\"]\n",
    "    patched_dataset.append(patch(img).to(dtype))\n",
    "    if (not i % 100):\n",
    "        print (i)\n",
    "patched_dataset=torch.stack(patched_dataset)\n"
   ]
  },
  {
   "cell_type": "code",
   "execution_count": 11,
   "metadata": {},
   "outputs": [
    {
     "data": {
      "text/plain": [
       "torch.Size([100, 2745, 384])"
      ]
     },
     "execution_count": 11,
     "metadata": {},
     "output_type": "execute_result"
    }
   ],
   "source": [
    "patched_dataset.shape"
   ]
  },
  {
   "cell_type": "raw",
   "metadata": {},
   "source": [
    "psudocode for data import \n",
    "    for each .csv file in dataset \n",
    "        get image file using file name, and import label\n",
    "\n",
    "https://github.com/gupta-abhay/pytorch-vit\n",
    "https://github.com/jeonsworld/ViT-pytorch/blob/main/models/modeling_resnet.py\n",
    "https://medium.com/deep-learning-study-notes/multi-layer-perceptron-mlp-in-pytorch-21ea46d50e62\n",
    "https://pytorch.org/docs/stable/generated/torch.nn.MultiheadAttention.html\n",
    "https://pytorch.org/docs/stable/generated/torch.nn.functional.normalize.html\n",
    "https://mrinath.medium.com/vit-part-1-patchify-images-using-pytorch-unfold-716cd4fd4ef6\n",
    "https://medium.com/@brianpulfer/vision-transformers-from-scratch-pytorch-a-step-by-step-guide-96c3313c2e0c\n",
    "\n",
    "\n",
    "TODO: Get metadata and make a dictionary to translate aircraft types into indexes/usable y-axis"
   ]
  },
  {
   "cell_type": "code",
   "execution_count": 40,
   "metadata": {},
   "outputs": [],
   "source": [
    "class ViT (nn.Module):\n",
    "    def __init__(self, k=16,hidden_dim=384,out_dim=46):\n",
    "        super().__init__()\n",
    "        self.hidden_dim = hidden_dim\n",
    "        self.layerNorm1 = nn.LayerNorm(hidden_dim)\n",
    "        self.msa = nn.MultiheadAttention(384,k)\n",
    "        self.layerNorm2 = nn.LayerNorm(hidden_dim)\n",
    "        self.mlp = nn.Sequential(\n",
    "            nn.Linear(hidden_dim,hidden_dim*4),\n",
    "            nn.GELU(),\n",
    "            nn.Linear(hidden_dim*4,hidden_dim)\n",
    "        )\n",
    "        self.output = nn.Sequential(\n",
    "            nn.Linear(hidden_dim,out_dim),\n",
    "            nn.Softmax(dim=-1)\n",
    "        )\n",
    "    \n",
    "    def forward(self,x):\n",
    "        x_1 = x.to(torch.float32)\n",
    "        x = self.layerNorm1(x.to(torch.float32))\n",
    "        x_prime = []\n",
    "        for i in x:\n",
    "            xp = self.msa(i,i,i,need_weights=False)\n",
    "            x_prime.append(xp[0])\n",
    "        x = torch.stack(x_prime)\n",
    "        x = x + x_1\n",
    "        x_2 = x\n",
    "        x = self.layerNorm2(x)\n",
    "        x = self.mlp(x)\n",
    "        x = x + x_2\n",
    "\n",
    "        return self.output(x)[:,0]\n",
    "\n",
    "        #LN, then MSA, + ,LN, MLP, +\n",
    "        #D is the constant latent vector size"
   ]
  },
  {
   "cell_type": "code",
   "execution_count": 45,
   "metadata": {},
   "outputs": [],
   "source": [
    "def training(model, optimizer,epochs=5):\n",
    "    model = model.to(device=device)\n",
    "    y = torch.from_numpy(np.array([dataset[i][\"label\"] for i in range(100)]))\n",
    "    # for epoch in range(epochs):\n",
    "    #     model.train()\n",
    "    #     print(epoch)\n",
    "    #     x = patched_dataset.to(device=device,dtype=dtype)\n",
    "    #     y = y.to(device=device,dtype=y.dtype)\n",
    "\n",
    "    #     scores = model(x)\n",
    "\n",
    "    #     loss = F.cross_entropy(scores, y)\n",
    "    #     optimizer.zero_grad()\n",
    "    #     loss.backward()\n",
    "    #     optimizer.step()\n",
    "    num_correct = 0\n",
    "    num_samples = 0\n",
    "    # model.eval()  # set model to evaluation mode\n",
    "    with torch.no_grad():\n",
    "        x = patched_dataset.to(device=device, dtype=dtype)  # move to device, e.g. GPU\n",
    "        y = y.to(device=device, dtype=torch.long)\n",
    "        scores = model(x)\n",
    "        _, preds = scores.max(1)\n",
    "        num_correct += (preds == y).sum()\n",
    "        num_samples += preds.size(0)\n",
    "        acc = float(num_correct) / num_samples\n",
    "        print('Got %d / %d correct (%.2f)' % (num_correct, num_samples, 100 * acc))\n",
    "    return acc\n",
    "\n"
   ]
  },
  {
   "cell_type": "code",
   "execution_count": 46,
   "metadata": {},
   "outputs": [
    {
     "name": "stdout",
     "output_type": "stream",
     "text": [
      "Got 2 / 100 correct (2.00)\n"
     ]
    },
    {
     "data": {
      "text/plain": [
       "0.02"
      ]
     },
     "execution_count": 46,
     "metadata": {},
     "output_type": "execute_result"
    }
   ],
   "source": [
    "import torch.nn.functional as F\n",
    "model = ViT()\n",
    "optimizer = torch.optim.Adam(model.parameters(),lr=0.01)\n",
    "training(model,optimizer)\n",
    "\n"
   ]
  }
 ],
 "metadata": {
  "kernelspec": {
   "display_name": "Python 3",
   "language": "python",
   "name": "python3"
  },
  "language_info": {
   "codemirror_mode": {
    "name": "ipython",
    "version": 3
   },
   "file_extension": ".py",
   "mimetype": "text/x-python",
   "name": "python",
   "nbconvert_exporter": "python",
   "pygments_lexer": "ipython3",
   "version": "3.10.12"
  }
 },
 "nbformat": 4,
 "nbformat_minor": 2
}
